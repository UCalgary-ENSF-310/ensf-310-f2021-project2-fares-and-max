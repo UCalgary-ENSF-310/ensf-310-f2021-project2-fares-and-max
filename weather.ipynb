{
 "cells": [
  {
   "cell_type": "code",
   "execution_count": 2,
   "metadata": {},
   "outputs": [
    {
     "ename": "ImportError",
     "evalue": "cannot import name 'Aurora'",
     "output_type": "error",
     "traceback": [
      "\u001b[1;31m---------------------------------------------------------------------------\u001b[0m",
      "\u001b[1;31mImportError\u001b[0m                               Traceback (most recent call last)",
      "\u001b[1;32m<ipython-input-2-7db791d0ddb6>\u001b[0m in \u001b[0;36m<module>\u001b[1;34m\u001b[0m\n\u001b[0;32m      6\u001b[0m \u001b[1;32mimport\u001b[0m \u001b[0mhttp\u001b[0m\u001b[1;33m.\u001b[0m\u001b[0mclient\u001b[0m \u001b[1;32mas\u001b[0m \u001b[0mhttplib\u001b[0m\u001b[1;33m\u001b[0m\u001b[1;33m\u001b[0m\u001b[0m\n\u001b[0;32m      7\u001b[0m \u001b[1;32mimport\u001b[0m \u001b[0mrandom\u001b[0m\u001b[1;33m\u001b[0m\u001b[1;33m\u001b[0m\u001b[0m\n\u001b[1;32m----> 8\u001b[1;33m \u001b[1;32mfrom\u001b[0m \u001b[0mnanoleaf\u001b[0m \u001b[1;32mimport\u001b[0m \u001b[0mAurora\u001b[0m\u001b[1;33m\u001b[0m\u001b[1;33m\u001b[0m\u001b[0m\n\u001b[0m\u001b[0;32m      9\u001b[0m \u001b[1;32mfrom\u001b[0m \u001b[0mnanoleafapi\u001b[0m \u001b[1;32mimport\u001b[0m \u001b[0mNanoleaf\u001b[0m\u001b[1;33m,\u001b[0m \u001b[0mNanoleafDigitalTwin\u001b[0m\u001b[1;33m\u001b[0m\u001b[1;33m\u001b[0m\u001b[0m\n\u001b[0;32m     10\u001b[0m \u001b[1;32mfrom\u001b[0m \u001b[0mnanoleafapi\u001b[0m \u001b[1;32mimport\u001b[0m \u001b[0mRED\u001b[0m\u001b[1;33m,\u001b[0m \u001b[0mORANGE\u001b[0m\u001b[1;33m,\u001b[0m \u001b[0mYELLOW\u001b[0m\u001b[1;33m,\u001b[0m \u001b[0mGREEN\u001b[0m\u001b[1;33m,\u001b[0m \u001b[0mLIGHT_BLUE\u001b[0m\u001b[1;33m,\u001b[0m \u001b[0mBLUE\u001b[0m\u001b[1;33m,\u001b[0m \u001b[0mPINK\u001b[0m\u001b[1;33m,\u001b[0m \u001b[0mPURPLE\u001b[0m\u001b[1;33m,\u001b[0m \u001b[0mWHITE\u001b[0m\u001b[1;33m\u001b[0m\u001b[1;33m\u001b[0m\u001b[0m\n",
      "\u001b[1;31mImportError\u001b[0m: cannot import name 'Aurora'"
     ]
    }
   ],
   "source": [
    "#import different libraries needed to interact with nanoleafs\n",
    "import sys\n",
    "import socket\n",
    "import json\n",
    "import time\n",
    "import http.client as httplib\n",
    "import random\n",
    "from nanoleaf import setup\n",
    "from nanoleaf import aurora\n",
    "from nanoleafapi import Nanoleaf, NanoleafDigitalTwin\n",
    "from nanoleafapi import RED, ORANGE, YELLOW, GREEN, LIGHT_BLUE, BLUE, PINK, PURPLE, WHITE\n",
    "from bs4 import beautifulsoup\n",
    "import requests"
   ]
  },
  {
   "cell_type": "code",
   "execution_count": null,
   "metadata": {},
   "outputs": [],
   "source": [
    "#get nanoleaf ip addresses and authentication tokens and create corresponding lists\n",
    "ipAddressList = setup.find_auroras()\n",
    "tokenlist=[]\n",
    "for i in ipAddressList:\n",
    "    tokenlist.apend(setup.generate_auth_token(ipAddressList[i-1]))"
   ]
  },
  {
   "cell_type": "code",
   "execution_count": null,
   "metadata": {},
   "outputs": [
    {
     "ename": "NameError",
     "evalue": "name 'Nanoleaf' is not defined",
     "output_type": "error",
     "traceback": [
      "\u001b[1;31m---------------------------------------------------------------------------\u001b[0m",
      "\u001b[1;31mNameError\u001b[0m                                 Traceback (most recent call last)",
      "\u001b[1;32m<ipython-input-10-91172ac605a4>\u001b[0m in \u001b[0;36m<module>\u001b[1;34m\u001b[0m\n\u001b[0;32m      1\u001b[0m \u001b[1;31m#create nanoleaf objects for each controller\u001b[0m\u001b[1;33m\u001b[0m\u001b[1;33m\u001b[0m\u001b[1;33m\u001b[0m\u001b[0m\n\u001b[1;32m----> 2\u001b[1;33m \u001b[0mrow1\u001b[0m\u001b[1;33m=\u001b[0m \u001b[0mNanoleaf\u001b[0m\u001b[1;33m(\u001b[0m\u001b[1;33m)\u001b[0m\u001b[1;31m#ip)\u001b[0m\u001b[1;33m\u001b[0m\u001b[1;33m\u001b[0m\u001b[0m\n\u001b[0m\u001b[0;32m      3\u001b[0m \u001b[0mrow2\u001b[0m\u001b[1;33m=\u001b[0m \u001b[0mNanoleaf\u001b[0m\u001b[1;33m(\u001b[0m\u001b[1;33m)\u001b[0m\u001b[1;31m#ip)\u001b[0m\u001b[1;33m\u001b[0m\u001b[1;33m\u001b[0m\u001b[0m\n\u001b[0;32m      4\u001b[0m \u001b[0mrow3\u001b[0m\u001b[1;33m=\u001b[0m \u001b[0mNanoleaf\u001b[0m\u001b[1;33m(\u001b[0m\u001b[1;33m)\u001b[0m\u001b[1;31m#ip)\u001b[0m\u001b[1;33m\u001b[0m\u001b[1;33m\u001b[0m\u001b[0m\n\u001b[0;32m      5\u001b[0m \u001b[0mrow4\u001b[0m\u001b[1;33m=\u001b[0m \u001b[0mNanoleaf\u001b[0m\u001b[1;33m(\u001b[0m\u001b[1;33m)\u001b[0m\u001b[1;31m#ip)\u001b[0m\u001b[1;33m\u001b[0m\u001b[1;33m\u001b[0m\u001b[0m\n",
      "\u001b[1;31mNameError\u001b[0m: name 'Nanoleaf' is not defined"
     ]
    }
   ],
   "source": [
    "#create nanoleaf objects for each controller\n",
    "row1= aurora.Aurora(ipAddressList[0], tokenlist[0])#ip)\n",
    "row2= aurora.Aurora(ipAddressList[1], tokenlist[1])#ip)\n",
    "row3= aurora.Aurora(ipAddressList[2], tokenlist[2])#ip)\n",
    "row4= aurora.Aurora(ipAddressList[3], tokenlist[3])#ip)\n",
    "row5= aurora.Aurora(ipAddressList[4], tokenlist[4])#ip)\n",
    "row6= aurora.Aurora(ipAddressList[5], tokenlist[5])#ip)\n",
    "row7= aurora.Aurora(ipAddressList[6], tokenlist[6])#ip)\n",
    "row8= aurora.Aurora(ipAddressList[7], tokenlist[7])#ip)\n",
    "row9= aurora.Aurora(ipAddressList[8], tokenlist[8])#ip)\n",
    "row10=aurora.Aurora(ipAddressList[9], tokenlist[9])#ip)"
   ]
  },
  {
   "cell_type": "code",
   "execution_count": null,
   "metadata": {},
   "outputs": [],
   "source": [
    "\n",
    "#Create digital twins for each controller\n",
    "digrow1 =NanoleafDigitalTwin(#ip)\n",
    "digrow2 =NanoleafDigitalTwin(#ip)\n",
    "digrow3 =NanoleafDigitalTwin(#ip)\n",
    "digrow4 =NanoleafDigitalTwin(#ip)\n",
    "digrow5 =NanoleafDigitalTwin(#ip)\n",
    "digrow6 =NanoleafDigitalTwin(#ip)\n",
    "digrow7 =NanoleafDigitalTwin(#ip)\n",
    "digrow8 =NanoleafDigitalTwin(#ip)\n",
    "digrow9 =NanoleafDigitalTwin(#ip)\n",
    "digrow10=NanoleafDigitalTwin(#ip)\n",
    "digrow11=NanoleafDigitalTwin(#ip)\n",
    "digrow12=NanoleafDigitalTwin(#ip)\n",
    "Nanoleaf.power_on() "
   ]
  },
  {
   "cell_type": "code",
   "execution_count": null,
   "metadata": {},
   "outputs": [],
   "source": [
    "#create effect to run when it is sunny\n",
    "sunny_effect_data = {\n",
    "    \"command\": \"add\",\n",
    "    \"animName\": \"Sunny\",\n",
    "    \"animType\": \"flow\",\n",
    "    \"colorType\": \"HSB\",\n",
    "    \"animData\": None,\n",
    "    \"palette\": [\n",
    "        {\n",
    "            \"hue\": 0,\n",
    "            \"saturation\": 100,\n",
    "            \"brightness\": 100\n",
    "        },\n",
    "        {\n",
    "            \"hue\": 30,\n",
    "            \"saturation\": 100,\n",
    "            \"brightness\": 100\n",
    "        },\n",
    "        {\n",
    "            \"hue\": 60,\n",
    "            \"saturation\": 100,\n",
    "            \"brightness\": 100\n",
    "        }\n",
    "    ],\n",
    "    \"brightnessRange\": {\n",
    "        \"minValue\": 25,\n",
    "        \"maxValue\": 100\n",
    "    },\n",
    "    \"transTime\": {\n",
    "        \"minValue\": 25,\n",
    "        \"maxValue\": 100\n",
    "    },\n",
    "    \"delayTime\": {\n",
    "        \"minValue\": 25,\n",
    "        \"maxValue\": 100\n",
    "    },\n",
    "    \"loop\": True\n",
    "}"
   ]
  },
  {
   "cell_type": "code",
   "execution_count": null,
   "metadata": {},
   "outputs": [],
   "source": [
    "#create effect to run when it is cloudy\n",
    "cloudy_effect_data = {\n",
    "    \"command\": \"add\",\n",
    "    \"animName\": \"Cloudy\",\n",
    "    \"animType\": \"flow\",\n",
    "    \"colorType\": \"HSB\",\n",
    "    \"animData\": None,\n",
    "    \"palette\": [\n",
    "        {\n",
    "            \"hue\": 0,\n",
    "            \"saturation\": 0,\n",
    "            \"brightness\": 100\n",
    "        },\n",
    "        {\n",
    "            \"hue\": 30,\n",
    "            \"saturation\": 0,\n",
    "            \"brightness\": 100\n",
    "        },\n",
    "        {\n",
    "            \"hue\": 60,\n",
    "            \"saturation\": 0,\n",
    "            \"brightness\": 100\n",
    "        }\n",
    "    ],\n",
    "    \"brightnessRange\": {\n",
    "        \"minValue\": 25,\n",
    "        \"maxValue\": 100\n",
    "    },\n",
    "    \"transTime\": {\n",
    "        \"minValue\": 25,\n",
    "        \"maxValue\": 100\n",
    "    },\n",
    "    \"delayTime\": {\n",
    "        \"minValue\": 25,\n",
    "        \"maxValue\": 100\n",
    "    },\n",
    "    \"loop\": True\n",
    "}"
   ]
  },
  {
   "cell_type": "code",
   "execution_count": 5,
   "metadata": {},
   "outputs": [
    {
     "ename": "NameError",
     "evalue": "name 'my_aurora' is not defined",
     "output_type": "error",
     "traceback": [
      "\u001b[1;31m---------------------------------------------------------------------------\u001b[0m",
      "\u001b[1;31mNameError\u001b[0m                                 Traceback (most recent call last)",
      "\u001b[1;32m<ipython-input-5-425bc6846f94>\u001b[0m in \u001b[0;36m<module>\u001b[1;34m\u001b[0m\n\u001b[0;32m      1\u001b[0m \u001b[1;31m#use to set effect\u001b[0m\u001b[1;33m\u001b[0m\u001b[1;33m\u001b[0m\u001b[1;33m\u001b[0m\u001b[0m\n\u001b[1;32m----> 2\u001b[1;33m \u001b[0mmy_aurora\u001b[0m\u001b[1;33m.\u001b[0m\u001b[0meffect_set_raw\u001b[0m\u001b[1;33m(\u001b[0m\u001b[0meffect_data\u001b[0m\u001b[1;33m)\u001b[0m\u001b[1;33m\u001b[0m\u001b[1;33m\u001b[0m\u001b[0m\n\u001b[0m\u001b[0;32m      3\u001b[0m \u001b[0mmy_aurora\u001b[0m\u001b[1;33m.\u001b[0m\u001b[0meffect_set_raw\u001b[0m\u001b[1;33m(\u001b[0m\u001b[0meffect_data\u001b[0m\u001b[1;33m)\u001b[0m\u001b[1;33m\u001b[0m\u001b[1;33m\u001b[0m\u001b[0m\n\u001b[0;32m      4\u001b[0m \u001b[0mmy_aurora\u001b[0m\u001b[1;33m.\u001b[0m\u001b[0meffect_set_raw\u001b[0m\u001b[1;33m(\u001b[0m\u001b[0meffect_data\u001b[0m\u001b[1;33m)\u001b[0m\u001b[1;33m\u001b[0m\u001b[1;33m\u001b[0m\u001b[0m\n\u001b[0;32m      5\u001b[0m \u001b[0mmy_aurora\u001b[0m\u001b[1;33m.\u001b[0m\u001b[0meffect_set_raw\u001b[0m\u001b[1;33m(\u001b[0m\u001b[0meffect_data\u001b[0m\u001b[1;33m)\u001b[0m\u001b[1;33m\u001b[0m\u001b[1;33m\u001b[0m\u001b[0m\n",
      "\u001b[1;31mNameError\u001b[0m: name 'my_aurora' is not defined"
     ]
    }
   ],
   "source": [
    "#use to set effect use if statemetns in correspondance with the weather api and set to the correct effect\n",
    "row1.effect_set_raw(effect_data)\n",
    "row2.effect_set_raw(effect_data)\n",
    "row3.effect_set_raw(effect_data)\n",
    "row4.effect_set_raw(effect_data)\n",
    "row5.effect_set_raw(effect_data)\n",
    "row6.effect_set_raw(effect_data)\n",
    "row7.effect_set_raw(effect_data)\n",
    "row8.effect_set_raw(effect_data)\n",
    "row9.effect_set_raw(effect_data)\n",
    "row10.effect_set_raw(effect_data)"
   ]
  }
 ],
 "metadata": {
  "interpreter": {
   "hash": "dcc64a3877640b07d9397fe7bb7acc47ee5b1f51a164e763457876b338347649"
  },
  "kernelspec": {
   "display_name": "Python 3.6.8 64-bit",
   "language": "python",
   "name": "python3"
  },
  "language_info": {
   "codemirror_mode": {
    "name": "ipython",
    "version": 3
   },
   "file_extension": ".py",
   "mimetype": "text/x-python",
   "name": "python",
   "nbconvert_exporter": "python",
   "pygments_lexer": "ipython3",
   "version": "3.6.8"
  },
  "orig_nbformat": 4
 },
 "nbformat": 4,
 "nbformat_minor": 2
}
